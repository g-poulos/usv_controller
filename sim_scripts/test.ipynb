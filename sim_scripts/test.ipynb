{
 "cells": [
  {
   "cell_type": "code",
   "execution_count": 1,
   "id": "initial_id",
   "metadata": {
    "collapsed": true,
    "ExecuteTime": {
     "end_time": "2023-12-14T15:31:34.193599358Z",
     "start_time": "2023-12-14T15:31:33.633920282Z"
    }
   },
   "outputs": [],
   "source": [
    "import math\n",
    "import matplotlib.pyplot as plt\n",
    "import numpy as np\n",
    "from disturbances import IntegratedWhiteNoise\n",
    "import os\n",
    "from constants import *\n",
    "from diff_calc import get_mass_matrix\n",
    "import pandas as pd"
   ]
  },
  {
   "cell_type": "code",
   "execution_count": 17,
   "outputs": [],
   "source": [
    "J = np.array([[1, 0, -(d_bf-(L_bc/2))],\n",
    "              [0, -1, -d_ae],\n",
    "              [1, 0, -d_bf], \n",
    "              [0, -1, (d_ad-d_ae)],\n",
    "              [1, 0, (L_bc - d_bf)],\n",
    "              [0, -1, (d_ad - d_ae)]])\n",
    "\n",
    "f_a = 100\n",
    "phi_a = 0\n",
    "\n",
    "f_b = 0\n",
    "phi_b = 0\n",
    "\n",
    "f_c = 0\n",
    "phi_c = 0\n",
    "\n",
    "f = np.array([f_a*np.sin(phi_a), f_a*np.cos(phi_a), \n",
    "              f_b*np.sin(phi_b), f_b*np.cos(phi_b), \n",
    "              f_c*np.sin(phi_c), f_c*np.cos(phi_c)])\n"
   ],
   "metadata": {
    "collapsed": false,
    "ExecuteTime": {
     "end_time": "2023-12-14T15:41:36.807523483Z",
     "start_time": "2023-12-14T15:41:36.805717442Z"
    }
   },
   "id": "4d95347246388405"
  },
  {
   "cell_type": "code",
   "execution_count": 21,
   "outputs": [
    {
     "data": {
      "text/plain": "array([[ 1.        ,  0.        ,  1.        ,  0.        ,  1.        ,\n         0.        ],\n       [ 0.        , -1.        ,  0.        , -1.        ,  0.        ,\n        -1.        ],\n       [-0.        , -2.76385399, -1.75      ,  1.381927  ,  1.75      ,\n         1.381927  ]])"
     },
     "execution_count": 21,
     "metadata": {},
     "output_type": "execute_result"
    }
   ],
   "source": [
    "J.transpose()"
   ],
   "metadata": {
    "collapsed": false,
    "ExecuteTime": {
     "end_time": "2023-12-14T15:41:54.259396243Z",
     "start_time": "2023-12-14T15:41:54.250708335Z"
    }
   },
   "id": "469f752b5b2aa307"
  },
  {
   "cell_type": "code",
   "execution_count": 19,
   "outputs": [
    {
     "data": {
      "text/plain": "array([  0., 100.,   0.,   0.,   0.,   0.])"
     },
     "execution_count": 19,
     "metadata": {},
     "output_type": "execute_result"
    }
   ],
   "source": [
    "f"
   ],
   "metadata": {
    "collapsed": false,
    "ExecuteTime": {
     "end_time": "2023-12-14T15:41:38.269187440Z",
     "start_time": "2023-12-14T15:41:38.265829095Z"
    }
   },
   "id": "ff618fdcf5005764"
  },
  {
   "cell_type": "code",
   "execution_count": 20,
   "outputs": [
    {
     "data": {
      "text/plain": "array([   0.       , -100.       , -276.3853992])"
     },
     "execution_count": 20,
     "metadata": {},
     "output_type": "execute_result"
    }
   ],
   "source": [
    "J.transpose() @ f"
   ],
   "metadata": {
    "collapsed": false,
    "ExecuteTime": {
     "end_time": "2023-12-14T15:41:42.860550099Z",
     "start_time": "2023-12-14T15:41:42.858825983Z"
    }
   },
   "id": "913277fdb90e3dd1"
  },
  {
   "cell_type": "code",
   "execution_count": 69,
   "outputs": [],
   "source": [
    "f_x = 0\n",
    "f_y = 100\n",
    "n = 0\n",
    "\n",
    "dv = (L_ac + L_bc)/2\n",
    "J_star = np.array([[1, 0, -(d_bf-(L_bc/2))/dv],\n",
    "                   [0, -1, -d_ae/dv],\n",
    "                   [1, 0, -d_bf/dv],\n",
    "                   [0, -1, (d_ad-d_ae)/dv],\n",
    "                   [1, 0, (L_bc - d_bf)/dv],\n",
    "                   [0, -1, (d_ad - d_ae)/dv]])\n",
    "\n",
    "J_star_plus = J_star @ np.linalg.inv(J_star.T @ J_star)\n",
    "\n",
    "q_star = np.array([f_x, f_y, n])"
   ],
   "metadata": {
    "collapsed": false,
    "ExecuteTime": {
     "end_time": "2023-12-14T16:20:01.428555604Z",
     "start_time": "2023-12-14T16:20:01.424273582Z"
    }
   },
   "id": "3f84ace465ed0c13"
  },
  {
   "cell_type": "code",
   "execution_count": 70,
   "outputs": [
    {
     "data": {
      "text/plain": "array([ 0.00000000e+00, -3.33333333e+01, -1.47328174e-15, -3.33333333e+01,\n        1.47328174e-15, -3.33333333e+01])"
     },
     "execution_count": 70,
     "metadata": {},
     "output_type": "execute_result"
    }
   ],
   "source": [
    "J_star_plus @ q_star.T"
   ],
   "metadata": {
    "collapsed": false,
    "ExecuteTime": {
     "end_time": "2023-12-14T16:20:02.869058853Z",
     "start_time": "2023-12-14T16:20:02.865171133Z"
    }
   },
   "id": "1aa972aedd1d9bee"
  },
  {
   "cell_type": "code",
   "execution_count": 71,
   "outputs": [],
   "source": [
    "def get_thrust_msgs(input_vec):\n",
    "    dv = (L_ac + L_bc) / 2\n",
    "    J_star = np.array([[1, 0, -(d_bf - (L_bc / 2)) / dv],\n",
    "                       [0, -1, -d_ae / dv],\n",
    "                       [1, 0, -d_bf / dv],\n",
    "                       [0, -1, (d_ad - d_ae) / dv],\n",
    "                       [1, 0, (L_bc - d_bf) / dv],\n",
    "                       [0, -1, (d_ad - d_ae) / dv]])\n",
    "\n",
    "    J_star_plus = J_star @ np.linalg.inv(J_star.T @ J_star)\n",
    "    q_star = input_vec\n",
    "    return J_star_plus @ q_star.T"
   ],
   "metadata": {
    "collapsed": false,
    "ExecuteTime": {
     "end_time": "2023-12-14T16:25:35.211161668Z",
     "start_time": "2023-12-14T16:25:35.202770718Z"
    }
   },
   "id": "9197cc15e12954de"
  },
  {
   "cell_type": "code",
   "execution_count": 72,
   "outputs": [
    {
     "data": {
      "text/plain": "array([33.33333333,  0.        , 33.33333333,  0.        , 33.33333333,\n        0.        ])"
     },
     "execution_count": 72,
     "metadata": {},
     "output_type": "execute_result"
    }
   ],
   "source": [
    "get_thrust_msgs(np.array([100, 0, 0]))"
   ],
   "metadata": {
    "collapsed": false,
    "ExecuteTime": {
     "end_time": "2023-12-14T16:25:48.100883946Z",
     "start_time": "2023-12-14T16:25:48.075576713Z"
    }
   },
   "id": "5e850f57d9d7ed01"
  },
  {
   "cell_type": "code",
   "execution_count": null,
   "outputs": [],
   "source": [],
   "metadata": {
    "collapsed": false
   },
   "id": "798c75faab515eb4"
  }
 ],
 "metadata": {
  "kernelspec": {
   "display_name": "Python 3",
   "language": "python",
   "name": "python3"
  },
  "language_info": {
   "codemirror_mode": {
    "name": "ipython",
    "version": 2
   },
   "file_extension": ".py",
   "mimetype": "text/x-python",
   "name": "python",
   "nbconvert_exporter": "python",
   "pygments_lexer": "ipython2",
   "version": "2.7.6"
  }
 },
 "nbformat": 4,
 "nbformat_minor": 5
}
