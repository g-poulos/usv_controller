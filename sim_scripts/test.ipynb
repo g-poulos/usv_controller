{
 "cells": [
  {
   "cell_type": "code",
   "execution_count": 1,
   "id": "initial_id",
   "metadata": {
    "collapsed": true,
    "ExecuteTime": {
     "end_time": "2024-01-08T15:51:36.615150467Z",
     "start_time": "2024-01-08T15:51:36.212388682Z"
    }
   },
   "outputs": [],
   "source": [
    "import math\n",
    "import numpy as np\n",
    "from disturbances import IntegratedWhiteNoise\n",
    "import os\n",
    "from constants import *\n",
    "from diff_calc import get_mass_matrix\n",
    "import pandas as pd"
   ]
  },
  {
   "cell_type": "code",
   "execution_count": 2,
   "outputs": [],
   "source": [
    "%matplotlib inline\n",
    "import matplotlib.pyplot as plt"
   ],
   "metadata": {
    "collapsed": false,
    "ExecuteTime": {
     "end_time": "2024-01-08T15:51:37.157959852Z",
     "start_time": "2024-01-08T15:51:37.150158261Z"
    }
   },
   "id": "95f61c5f658fa1f8"
  },
  {
   "cell_type": "code",
   "execution_count": 17,
   "outputs": [],
   "source": [
    "J = np.array([[1, 0, -(d_bf-(L_bc/2))],\n",
    "              [0, -1, -d_ae],\n",
    "              [1, 0, -d_bf], \n",
    "              [0, -1, (d_ad-d_ae)],\n",
    "              [1, 0, (L_bc - d_bf)],\n",
    "              [0, -1, (d_ad - d_ae)]])\n",
    "\n",
    "f_a = 100\n",
    "phi_a = 0\n",
    "\n",
    "f_b = 0\n",
    "phi_b = 0\n",
    "\n",
    "f_c = 0\n",
    "phi_c = 0\n",
    "\n",
    "f = np.array([f_a*np.sin(phi_a), f_a*np.cos(phi_a), \n",
    "              f_b*np.sin(phi_b), f_b*np.cos(phi_b), \n",
    "              f_c*np.sin(phi_c), f_c*np.cos(phi_c)])\n"
   ],
   "metadata": {
    "collapsed": false,
    "ExecuteTime": {
     "end_time": "2023-12-19T15:55:03.995807067Z",
     "start_time": "2023-12-19T15:55:03.951020630Z"
    }
   },
   "id": "4d95347246388405"
  },
  {
   "cell_type": "code",
   "execution_count": 4,
   "outputs": [],
   "source": [
    "def get_thrust_7a(input_vec):\n",
    "    J = np.array([[1, 0, -(d_bf - (L_bc / 2))],\n",
    "                  [0, -1, -d_ae],\n",
    "                  [1, 0, -d_bf],\n",
    "                  [0, -1, (d_ad - d_ae)],\n",
    "                  [1, 0, (L_bc - d_bf)],\n",
    "                  [0, -1, (d_ad - d_ae)]])\n",
    "    J = J.T\n",
    "\n",
    "    J_plus = J.T @ np.linalg.inv(J @ J.T)\n",
    "    return J_plus @ input_vec"
   ],
   "metadata": {
    "collapsed": false,
    "ExecuteTime": {
     "end_time": "2023-12-20T13:05:34.159916112Z",
     "start_time": "2023-12-20T13:05:34.119160907Z"
    }
   },
   "id": "2f08d10c1c4c9618"
  },
  {
   "cell_type": "code",
   "execution_count": 5,
   "outputs": [
    {
     "data": {
      "text/plain": "array([  0.        , -49.05193424,  -9.95260664, -25.47403288,\n         9.95260664, -25.47403288])"
     },
     "execution_count": 5,
     "metadata": {},
     "output_type": "execute_result"
    }
   ],
   "source": [
    "get_thrust_7a(np.array([0, 100, 100]))"
   ],
   "metadata": {
    "collapsed": false,
    "ExecuteTime": {
     "end_time": "2023-12-20T13:05:34.572204218Z",
     "start_time": "2023-12-20T13:05:34.560447454Z"
    }
   },
   "id": "e3b1f6d8c8a8502e"
  },
  {
   "cell_type": "code",
   "execution_count": 15,
   "outputs": [],
   "source": [
    "f_x = 300\n",
    "f_y = 0\n",
    "n = 0\n",
    "\n",
    "dv = (L_ac + L_bc)/2\n",
    "J_star = np.array([[1, 0, -(d_bf-(L_bc/2))/dv],\n",
    "                   [0, -1, -d_ae/dv],\n",
    "                   [1, 0, -d_bf/dv],\n",
    "                   [0, -1, (d_ad-d_ae)/dv],\n",
    "                   [1, 0, (L_bc - d_bf)/dv],\n",
    "                   [0, -1, (d_ad - d_ae)/dv]])\n",
    "\n",
    "J_star_plus = J_star @ np.linalg.inv(J_star.T @ J_star)\n",
    "\n",
    "q_star = np.array([f_x, f_y, n])"
   ],
   "metadata": {
    "collapsed": false,
    "ExecuteTime": {
     "end_time": "2023-12-19T15:49:22.491229870Z",
     "start_time": "2023-12-19T15:49:22.447525978Z"
    }
   },
   "id": "3f84ace465ed0c13"
  },
  {
   "cell_type": "code",
   "execution_count": 38,
   "outputs": [
    {
     "ename": "ValueError",
     "evalue": "matmul: Input operand 1 has a mismatch in its core dimension 0, with gufunc signature (n?,k),(k,m?)->(n?,m?) (size 6 is different from 3)",
     "output_type": "error",
     "traceback": [
      "\u001B[0;31m---------------------------------------------------------------------------\u001B[0m",
      "\u001B[0;31mValueError\u001B[0m                                Traceback (most recent call last)",
      "Cell \u001B[0;32mIn[38], line 1\u001B[0m\n\u001B[0;32m----> 1\u001B[0m \u001B[43mJ_star\u001B[49m\u001B[43m \u001B[49m\u001B[38;5;241;43m@\u001B[39;49m\u001B[43m \u001B[49m\u001B[43mJ_star_plus\u001B[49m \n",
      "\u001B[0;31mValueError\u001B[0m: matmul: Input operand 1 has a mismatch in its core dimension 0, with gufunc signature (n?,k),(k,m?)->(n?,m?) (size 6 is different from 3)"
     ]
    }
   ],
   "source": [
    " "
   ],
   "metadata": {
    "collapsed": false,
    "ExecuteTime": {
     "end_time": "2023-12-19T16:49:41.739817351Z",
     "start_time": "2023-12-19T16:49:41.729000412Z"
    }
   },
   "id": "2fd793e41c4f78b1"
  },
  {
   "cell_type": "code",
   "execution_count": 34,
   "outputs": [],
   "source": [
    "def get_thrust_msgs(input_vec):\n",
    "    dv = (L_ac + L_bc) / 2\n",
    "    J_star = np.array([[1, 0, -(d_bf - (L_bc / 2)) / dv],\n",
    "                       [0, -1, -d_ae / dv],\n",
    "                       [1, 0, -d_bf / dv],\n",
    "                       [0, -1, (d_ad - d_ae) / dv],\n",
    "                       [1, 0, (L_bc - d_bf) / dv],\n",
    "                       [0, -1, (d_ad - d_ae) / dv]])\n",
    "    J_star = J_star.T\n",
    "\n",
    "    J_star_plus = J_star.T @ np.linalg.inv(J_star @ J_star.T)\n",
    "    # q_star = np.array([input_vec[0], input_vec[1], input_vec[2]/dv])\n",
    "    q_star = input_vec\n",
    "    return J_star_plus @ q_star"
   ],
   "metadata": {
    "collapsed": false,
    "ExecuteTime": {
     "end_time": "2023-12-19T16:37:23.992854563Z",
     "start_time": "2023-12-19T16:37:23.977094921Z"
    }
   },
   "id": "9197cc15e12954de"
  },
  {
   "cell_type": "code",
   "execution_count": 35,
   "outputs": [
    {
     "data": {
      "text/plain": "array([ 33.33333333, -62.87440361,  -6.47709321,  31.4372018 ,\n        73.14375987,  31.4372018 ])"
     },
     "execution_count": 35,
     "metadata": {},
     "output_type": "execute_result"
    }
   ],
   "source": [
    "get_thrust_msgs(np.array([100, 0, 100]))"
   ],
   "metadata": {
    "collapsed": false,
    "ExecuteTime": {
     "end_time": "2023-12-19T16:37:24.448714068Z",
     "start_time": "2023-12-19T16:37:24.439595545Z"
    }
   },
   "id": "5e850f57d9d7ed01"
  },
  {
   "cell_type": "code",
   "execution_count": 27,
   "outputs": [
    {
     "data": {
      "text/plain": "array([[1., 1.],\n       [2., 2.],\n       [3., 3.]])"
     },
     "execution_count": 27,
     "metadata": {},
     "output_type": "execute_result"
    }
   ],
   "source": [
    "n = np.empty((3, 0))\n",
    "n = np.column_stack((n, np.array([1, 2, 3])))\n",
    "np.column_stack((n, np.array([1, 2, 3])))"
   ],
   "metadata": {
    "collapsed": false,
    "ExecuteTime": {
     "end_time": "2024-01-08T10:58:31.513388312Z",
     "start_time": "2024-01-08T10:58:31.511438856Z"
    }
   },
   "id": "9b323571d6709a6d"
  },
  {
   "cell_type": "code",
   "execution_count": 3,
   "outputs": [],
   "source": [
    "# Reading from a MCAP file\n",
    "from mcap_ros2.reader import read_ros2_messages\n",
    "\n",
    "\n",
    "def interpolate(array):\n",
    "    return np.interp(np.arange(0, 6000, 1), np.arange(0, len(array), 1), array)\n",
    "\n",
    "pos = np.empty((3, 0))\n",
    "vel = np.empty((3, 0))\n",
    "acc = np.empty((3, 0))\n",
    "\n",
    "for msg in read_ros2_messages(\"../bagfiles/record7/record7_0.mcap\"):\n",
    "    if msg.channel.topic == \"/model/vereniki/odometry\":\n",
    "        # print(f\"{msg.ros_msg.pose.pose.position.x}: \\n\")\n",
    "        pos = np.column_stack((pos, np.array([msg.ros_msg.pose.pose.position.x,\n",
    "                                              msg.ros_msg.pose.pose.position.y,\n",
    "                                              msg.ros_msg.pose.pose.orientation.z])))\n",
    "        vel = np.column_stack((vel, np.array([msg.ros_msg.twist.twist.linear.x,\n",
    "                                              msg.ros_msg.twist.twist.linear.y,\n",
    "                                              msg.ros_msg.twist.twist.angular.z])))\n",
    "    if msg.channel.topic == \"/model/vereniki/imu\":\n",
    "        # print(f\"{msg.ros_msg.linear_acceleration.x}\")\n",
    "        acc = np.column_stack((acc, np.array([msg.ros_msg.linear_acceleration.x,\n",
    "                                              msg.ros_msg.linear_acceleration.y,\n",
    "                                              0])))\n",
    "\n",
    "    \n",
    "odom_data = {'Position-x': pos[0, :], \n",
    "        'Position-y': pos[1, :], \n",
    "        'Orientation-z': pos[2, :],\n",
    "        'Velocity-x': vel[0, :],\n",
    "        'Velocity-y': vel[1, :],\n",
    "        'Velocity-z': vel[2, :]}\n",
    "\n",
    "imu_data= {'Acceleration-x': acc[0, :],\n",
    "           'Acceleration-y': acc[1, :],\n",
    "           'Acceleration-z': acc[2, :]}\n",
    "odom_sim_data = pd.DataFrame(odom_data)\n",
    "imu_sim_data = pd.DataFrame(imu_data)"
   ],
   "metadata": {
    "collapsed": false,
    "ExecuteTime": {
     "end_time": "2024-01-08T15:52:37.553098579Z",
     "start_time": "2024-01-08T15:51:41.676696221Z"
    }
   },
   "id": "ff70f574dc0ce835"
  },
  {
   "cell_type": "code",
   "execution_count": 4,
   "outputs": [
    {
     "data": {
      "text/plain": "      Position-x  Position-y  Orientation-z  Velocity-x    Velocity-y  \\\n0       0.006393    0.000006      -0.000002    0.001982  2.369743e-04   \n1       0.006471    0.000012      -0.000002    0.004539  3.724058e-04   \n2       0.006600    0.000022      -0.000002    0.007073  4.988151e-04   \n3       0.006779    0.000033      -0.000002    0.009587  6.143253e-04   \n4       0.007008    0.000047      -0.000002    0.012083  7.190326e-04   \n...          ...         ...            ...         ...           ...   \n3030   25.787689    0.031387       0.000608    0.447459 -1.181123e-09   \n3031   25.796638    0.031398       0.000608    0.447459 -1.177565e-09   \n3032   25.805587    0.031409       0.000608    0.447459 -1.174011e-09   \n3033   25.814536    0.031420       0.000608    0.447459 -1.175667e-09   \n3034   25.823486    0.031431       0.000608    0.447459 -1.172117e-09   \n\n        Velocity-z  \n0    -7.218222e-05  \n1    -8.883787e-05  \n2    -1.002205e-04  \n3    -1.056001e-04  \n4    -1.044982e-04  \n...            ...  \n3030  6.494612e-08  \n3031  6.494612e-08  \n3032  6.494612e-08  \n3033  6.494612e-08  \n3034  6.494613e-08  \n\n[3035 rows x 6 columns]",
      "text/html": "<div>\n<style scoped>\n    .dataframe tbody tr th:only-of-type {\n        vertical-align: middle;\n    }\n\n    .dataframe tbody tr th {\n        vertical-align: top;\n    }\n\n    .dataframe thead th {\n        text-align: right;\n    }\n</style>\n<table border=\"1\" class=\"dataframe\">\n  <thead>\n    <tr style=\"text-align: right;\">\n      <th></th>\n      <th>Position-x</th>\n      <th>Position-y</th>\n      <th>Orientation-z</th>\n      <th>Velocity-x</th>\n      <th>Velocity-y</th>\n      <th>Velocity-z</th>\n    </tr>\n  </thead>\n  <tbody>\n    <tr>\n      <th>0</th>\n      <td>0.006393</td>\n      <td>0.000006</td>\n      <td>-0.000002</td>\n      <td>0.001982</td>\n      <td>2.369743e-04</td>\n      <td>-7.218222e-05</td>\n    </tr>\n    <tr>\n      <th>1</th>\n      <td>0.006471</td>\n      <td>0.000012</td>\n      <td>-0.000002</td>\n      <td>0.004539</td>\n      <td>3.724058e-04</td>\n      <td>-8.883787e-05</td>\n    </tr>\n    <tr>\n      <th>2</th>\n      <td>0.006600</td>\n      <td>0.000022</td>\n      <td>-0.000002</td>\n      <td>0.007073</td>\n      <td>4.988151e-04</td>\n      <td>-1.002205e-04</td>\n    </tr>\n    <tr>\n      <th>3</th>\n      <td>0.006779</td>\n      <td>0.000033</td>\n      <td>-0.000002</td>\n      <td>0.009587</td>\n      <td>6.143253e-04</td>\n      <td>-1.056001e-04</td>\n    </tr>\n    <tr>\n      <th>4</th>\n      <td>0.007008</td>\n      <td>0.000047</td>\n      <td>-0.000002</td>\n      <td>0.012083</td>\n      <td>7.190326e-04</td>\n      <td>-1.044982e-04</td>\n    </tr>\n    <tr>\n      <th>...</th>\n      <td>...</td>\n      <td>...</td>\n      <td>...</td>\n      <td>...</td>\n      <td>...</td>\n      <td>...</td>\n    </tr>\n    <tr>\n      <th>3030</th>\n      <td>25.787689</td>\n      <td>0.031387</td>\n      <td>0.000608</td>\n      <td>0.447459</td>\n      <td>-1.181123e-09</td>\n      <td>6.494612e-08</td>\n    </tr>\n    <tr>\n      <th>3031</th>\n      <td>25.796638</td>\n      <td>0.031398</td>\n      <td>0.000608</td>\n      <td>0.447459</td>\n      <td>-1.177565e-09</td>\n      <td>6.494612e-08</td>\n    </tr>\n    <tr>\n      <th>3032</th>\n      <td>25.805587</td>\n      <td>0.031409</td>\n      <td>0.000608</td>\n      <td>0.447459</td>\n      <td>-1.174011e-09</td>\n      <td>6.494612e-08</td>\n    </tr>\n    <tr>\n      <th>3033</th>\n      <td>25.814536</td>\n      <td>0.031420</td>\n      <td>0.000608</td>\n      <td>0.447459</td>\n      <td>-1.175667e-09</td>\n      <td>6.494612e-08</td>\n    </tr>\n    <tr>\n      <th>3034</th>\n      <td>25.823486</td>\n      <td>0.031431</td>\n      <td>0.000608</td>\n      <td>0.447459</td>\n      <td>-1.172117e-09</td>\n      <td>6.494613e-08</td>\n    </tr>\n  </tbody>\n</table>\n<p>3035 rows × 6 columns</p>\n</div>"
     },
     "execution_count": 4,
     "metadata": {},
     "output_type": "execute_result"
    }
   ],
   "source": [
    "odom_sim_data"
   ],
   "metadata": {
    "collapsed": false,
    "ExecuteTime": {
     "end_time": "2024-01-08T15:52:39.088083674Z",
     "start_time": "2024-01-08T15:52:39.077756058Z"
    }
   },
   "id": "bba2831af50a6667"
  },
  {
   "cell_type": "code",
   "execution_count": 5,
   "outputs": [
    {
     "data": {
      "text/plain": "      Position-x  Position-y  Orientation-z  Velocity-x  Velocity-y  \\\n0       0.000000         0.0            0.0    0.000000         0.0   \n1       0.000000         0.0            0.0    0.001307         0.0   \n2       0.000013         0.0            0.0    0.002033         0.0   \n3       0.000033         0.0            0.0    0.003018         0.0   \n4       0.000064         0.0            0.0    0.003887         0.0   \n...          ...         ...            ...         ...         ...   \n5995   30.288124         0.0            0.0    0.542884         0.0   \n5996   30.293553         0.0            0.0    0.542884         0.0   \n5997   30.298982         0.0            0.0    0.542884         0.0   \n5998   30.304411         0.0            0.0    0.542884         0.0   \n5999   30.309840         0.0            0.0    0.542884         0.0   \n\n      Velocity-z  Acceleration-x  Acceleration-y  Acceleration-z  \n0            0.0    0.000000e+00             0.0             0.0  \n1            0.0    1.307190e-01             0.0             0.0  \n2            0.0    7.262088e-02             0.0             0.0  \n3            0.0    9.844117e-02             0.0             0.0  \n4            0.0    8.696328e-02             0.0             0.0  \n...          ...             ...             ...             ...  \n5995         0.0    7.478133e-10             0.0             0.0  \n5996         0.0    7.453227e-10             0.0             0.0  \n5997         0.0    7.428403e-10             0.0             0.0  \n5998         0.0    7.403663e-10             0.0             0.0  \n5999         0.0    7.379005e-10             0.0             0.0  \n\n[6000 rows x 9 columns]",
      "text/html": "<div>\n<style scoped>\n    .dataframe tbody tr th:only-of-type {\n        vertical-align: middle;\n    }\n\n    .dataframe tbody tr th {\n        vertical-align: top;\n    }\n\n    .dataframe thead th {\n        text-align: right;\n    }\n</style>\n<table border=\"1\" class=\"dataframe\">\n  <thead>\n    <tr style=\"text-align: right;\">\n      <th></th>\n      <th>Position-x</th>\n      <th>Position-y</th>\n      <th>Orientation-z</th>\n      <th>Velocity-x</th>\n      <th>Velocity-y</th>\n      <th>Velocity-z</th>\n      <th>Acceleration-x</th>\n      <th>Acceleration-y</th>\n      <th>Acceleration-z</th>\n    </tr>\n  </thead>\n  <tbody>\n    <tr>\n      <th>0</th>\n      <td>0.000000</td>\n      <td>0.0</td>\n      <td>0.0</td>\n      <td>0.000000</td>\n      <td>0.0</td>\n      <td>0.0</td>\n      <td>0.000000e+00</td>\n      <td>0.0</td>\n      <td>0.0</td>\n    </tr>\n    <tr>\n      <th>1</th>\n      <td>0.000000</td>\n      <td>0.0</td>\n      <td>0.0</td>\n      <td>0.001307</td>\n      <td>0.0</td>\n      <td>0.0</td>\n      <td>1.307190e-01</td>\n      <td>0.0</td>\n      <td>0.0</td>\n    </tr>\n    <tr>\n      <th>2</th>\n      <td>0.000013</td>\n      <td>0.0</td>\n      <td>0.0</td>\n      <td>0.002033</td>\n      <td>0.0</td>\n      <td>0.0</td>\n      <td>7.262088e-02</td>\n      <td>0.0</td>\n      <td>0.0</td>\n    </tr>\n    <tr>\n      <th>3</th>\n      <td>0.000033</td>\n      <td>0.0</td>\n      <td>0.0</td>\n      <td>0.003018</td>\n      <td>0.0</td>\n      <td>0.0</td>\n      <td>9.844117e-02</td>\n      <td>0.0</td>\n      <td>0.0</td>\n    </tr>\n    <tr>\n      <th>4</th>\n      <td>0.000064</td>\n      <td>0.0</td>\n      <td>0.0</td>\n      <td>0.003887</td>\n      <td>0.0</td>\n      <td>0.0</td>\n      <td>8.696328e-02</td>\n      <td>0.0</td>\n      <td>0.0</td>\n    </tr>\n    <tr>\n      <th>...</th>\n      <td>...</td>\n      <td>...</td>\n      <td>...</td>\n      <td>...</td>\n      <td>...</td>\n      <td>...</td>\n      <td>...</td>\n      <td>...</td>\n      <td>...</td>\n    </tr>\n    <tr>\n      <th>5995</th>\n      <td>30.288124</td>\n      <td>0.0</td>\n      <td>0.0</td>\n      <td>0.542884</td>\n      <td>0.0</td>\n      <td>0.0</td>\n      <td>7.478133e-10</td>\n      <td>0.0</td>\n      <td>0.0</td>\n    </tr>\n    <tr>\n      <th>5996</th>\n      <td>30.293553</td>\n      <td>0.0</td>\n      <td>0.0</td>\n      <td>0.542884</td>\n      <td>0.0</td>\n      <td>0.0</td>\n      <td>7.453227e-10</td>\n      <td>0.0</td>\n      <td>0.0</td>\n    </tr>\n    <tr>\n      <th>5997</th>\n      <td>30.298982</td>\n      <td>0.0</td>\n      <td>0.0</td>\n      <td>0.542884</td>\n      <td>0.0</td>\n      <td>0.0</td>\n      <td>7.428403e-10</td>\n      <td>0.0</td>\n      <td>0.0</td>\n    </tr>\n    <tr>\n      <th>5998</th>\n      <td>30.304411</td>\n      <td>0.0</td>\n      <td>0.0</td>\n      <td>0.542884</td>\n      <td>0.0</td>\n      <td>0.0</td>\n      <td>7.403663e-10</td>\n      <td>0.0</td>\n      <td>0.0</td>\n    </tr>\n    <tr>\n      <th>5999</th>\n      <td>30.309840</td>\n      <td>0.0</td>\n      <td>0.0</td>\n      <td>0.542884</td>\n      <td>0.0</td>\n      <td>0.0</td>\n      <td>7.379005e-10</td>\n      <td>0.0</td>\n      <td>0.0</td>\n    </tr>\n  </tbody>\n</table>\n<p>6000 rows × 9 columns</p>\n</div>"
     },
     "execution_count": 5,
     "metadata": {},
     "output_type": "execute_result"
    }
   ],
   "source": [
    "diff_data = pd.read_csv('output.csv')\n",
    "diff_data"
   ],
   "metadata": {
    "collapsed": false,
    "ExecuteTime": {
     "end_time": "2024-01-08T15:52:40.379691932Z",
     "start_time": "2024-01-08T15:52:40.358663757Z"
    }
   },
   "id": "6db629c2167418e2"
  },
  {
   "cell_type": "code",
   "execution_count": 6,
   "outputs": [
    {
     "data": {
      "text/plain": "0        0.000000\n1        0.000000\n3        0.000033\n5        0.000102\n7        0.000208\n          ...    \n5991    30.266409\n5993    30.277267\n5995    30.288124\n5997    30.298982\n5999    30.309840\nName: Position-x, Length: 3035, dtype: float64"
     },
     "execution_count": 6,
     "metadata": {},
     "output_type": "execute_result"
    }
   ],
   "source": [
    "selected_indices = np.linspace(0, len(diff_data['Position-x'])-1, 3035, dtype=int)\n",
    "diff_data.iloc[selected_indices, 0]"
   ],
   "metadata": {
    "collapsed": false,
    "ExecuteTime": {
     "end_time": "2024-01-08T15:52:42.077348889Z",
     "start_time": "2024-01-08T15:52:42.073067883Z"
    }
   },
   "id": "c5bd665a3bcb485a"
  },
  {
   "cell_type": "code",
   "execution_count": 24,
   "outputs": [
    {
     "data": {
      "text/plain": "0        0.000000\n1        0.000000\n2        0.000033\n3        0.000102\n4        0.000208\n          ...    \n3030    30.266409\n3031    30.277267\n3032    30.288124\n3033    30.298982\n3034    30.309840\nName: Position-x, Length: 3035, dtype: float64"
     },
     "execution_count": 24,
     "metadata": {},
     "output_type": "execute_result"
    }
   ],
   "source": [
    "diff_data.iloc[selected_indices, 0].reset_index(drop=True)"
   ],
   "metadata": {
    "collapsed": false,
    "ExecuteTime": {
     "end_time": "2024-01-08T16:04:27.239878942Z",
     "start_time": "2024-01-08T16:04:27.232607808Z"
    }
   },
   "id": "60961893b7e171c0"
  },
  {
   "cell_type": "code",
   "execution_count": 25,
   "outputs": [
    {
     "data": {
      "text/plain": "<Figure size 640x480 with 1 Axes>",
      "image/png": "[encoded data removed]"
     },
     "metadata": {},
     "output_type": "display_data"
    }
   ],
   "source": [
    "plt.plot(diff_data.iloc[selected_indices, 0].reset_index(drop=True), label='SIM')\n",
    "plt.plot(odom_sim_data['Position-x'], label='Diff')\n",
    "plt.legend()\n",
    "plt.show()"
   ],
   "metadata": {
    "collapsed": false,
    "ExecuteTime": {
     "end_time": "2024-01-08T16:04:34.389191426Z",
     "start_time": "2024-01-08T16:04:34.190264722Z"
    }
   },
   "id": "8f0faac994771b8b"
  },
  {
   "cell_type": "code",
   "execution_count": 89,
   "outputs": [
    {
     "data": {
      "text/plain": "      Position-x  Position-y  Orientation-z  Velocity-x  Velocity-y  \\\n0       0.000000         0.0            0.0    0.000000         0.0   \n1       0.000000         0.0            0.0    0.001307         0.0   \n2       0.000013         0.0            0.0    0.002033         0.0   \n3       0.000033         0.0            0.0    0.003018         0.0   \n4       0.000064         0.0            0.0    0.003887         0.0   \n...          ...         ...            ...         ...         ...   \n5995   30.288124         0.0            0.0    0.542884         0.0   \n5996   30.293553         0.0            0.0    0.542884         0.0   \n5997   30.298982         0.0            0.0    0.542884         0.0   \n5998   30.304411         0.0            0.0    0.542884         0.0   \n5999   30.309840         0.0            0.0    0.542884         0.0   \n\n      Velocity-z  Acceleration-x  Acceleration-y  Acceleration-z  \n0            0.0    0.000000e+00             0.0             0.0  \n1            0.0    1.307190e-01             0.0             0.0  \n2            0.0    7.262088e-02             0.0             0.0  \n3            0.0    9.844117e-02             0.0             0.0  \n4            0.0    8.696328e-02             0.0             0.0  \n...          ...             ...             ...             ...  \n5995         0.0    7.478133e-10             0.0             0.0  \n5996         0.0    7.453227e-10             0.0             0.0  \n5997         0.0    7.428403e-10             0.0             0.0  \n5998         0.0    7.403663e-10             0.0             0.0  \n5999         0.0    7.379005e-10             0.0             0.0  \n\n[6000 rows x 9 columns]",
      "text/html": "<div>\n<style scoped>\n    .dataframe tbody tr th:only-of-type {\n        vertical-align: middle;\n    }\n\n    .dataframe tbody tr th {\n        vertical-align: top;\n    }\n\n    .dataframe thead th {\n        text-align: right;\n    }\n</style>\n<table border=\"1\" class=\"dataframe\">\n  <thead>\n    <tr style=\"text-align: right;\">\n      <th></th>\n      <th>Position-x</th>\n      <th>Position-y</th>\n      <th>Orientation-z</th>\n      <th>Velocity-x</th>\n      <th>Velocity-y</th>\n      <th>Velocity-z</th>\n      <th>Acceleration-x</th>\n      <th>Acceleration-y</th>\n      <th>Acceleration-z</th>\n    </tr>\n  </thead>\n  <tbody>\n    <tr>\n      <th>0</th>\n      <td>0.000000</td>\n      <td>0.0</td>\n      <td>0.0</td>\n      <td>0.000000</td>\n      <td>0.0</td>\n      <td>0.0</td>\n      <td>0.000000e+00</td>\n      <td>0.0</td>\n      <td>0.0</td>\n    </tr>\n    <tr>\n      <th>1</th>\n      <td>0.000000</td>\n      <td>0.0</td>\n      <td>0.0</td>\n      <td>0.001307</td>\n      <td>0.0</td>\n      <td>0.0</td>\n      <td>1.307190e-01</td>\n      <td>0.0</td>\n      <td>0.0</td>\n    </tr>\n    <tr>\n      <th>2</th>\n      <td>0.000013</td>\n      <td>0.0</td>\n      <td>0.0</td>\n      <td>0.002033</td>\n      <td>0.0</td>\n      <td>0.0</td>\n      <td>7.262088e-02</td>\n      <td>0.0</td>\n      <td>0.0</td>\n    </tr>\n    <tr>\n      <th>3</th>\n      <td>0.000033</td>\n      <td>0.0</td>\n      <td>0.0</td>\n      <td>0.003018</td>\n      <td>0.0</td>\n      <td>0.0</td>\n      <td>9.844117e-02</td>\n      <td>0.0</td>\n      <td>0.0</td>\n    </tr>\n    <tr>\n      <th>4</th>\n      <td>0.000064</td>\n      <td>0.0</td>\n      <td>0.0</td>\n      <td>0.003887</td>\n      <td>0.0</td>\n      <td>0.0</td>\n      <td>8.696328e-02</td>\n      <td>0.0</td>\n      <td>0.0</td>\n    </tr>\n    <tr>\n      <th>...</th>\n      <td>...</td>\n      <td>...</td>\n      <td>...</td>\n      <td>...</td>\n      <td>...</td>\n      <td>...</td>\n      <td>...</td>\n      <td>...</td>\n      <td>...</td>\n    </tr>\n    <tr>\n      <th>5995</th>\n      <td>30.288124</td>\n      <td>0.0</td>\n      <td>0.0</td>\n      <td>0.542884</td>\n      <td>0.0</td>\n      <td>0.0</td>\n      <td>7.478133e-10</td>\n      <td>0.0</td>\n      <td>0.0</td>\n    </tr>\n    <tr>\n      <th>5996</th>\n      <td>30.293553</td>\n      <td>0.0</td>\n      <td>0.0</td>\n      <td>0.542884</td>\n      <td>0.0</td>\n      <td>0.0</td>\n      <td>7.453227e-10</td>\n      <td>0.0</td>\n      <td>0.0</td>\n    </tr>\n    <tr>\n      <th>5997</th>\n      <td>30.298982</td>\n      <td>0.0</td>\n      <td>0.0</td>\n      <td>0.542884</td>\n      <td>0.0</td>\n      <td>0.0</td>\n      <td>7.428403e-10</td>\n      <td>0.0</td>\n      <td>0.0</td>\n    </tr>\n    <tr>\n      <th>5998</th>\n      <td>30.304411</td>\n      <td>0.0</td>\n      <td>0.0</td>\n      <td>0.542884</td>\n      <td>0.0</td>\n      <td>0.0</td>\n      <td>7.403663e-10</td>\n      <td>0.0</td>\n      <td>0.0</td>\n    </tr>\n    <tr>\n      <th>5999</th>\n      <td>30.309840</td>\n      <td>0.0</td>\n      <td>0.0</td>\n      <td>0.542884</td>\n      <td>0.0</td>\n      <td>0.0</td>\n      <td>7.379005e-10</td>\n      <td>0.0</td>\n      <td>0.0</td>\n    </tr>\n  </tbody>\n</table>\n<p>6000 rows × 9 columns</p>\n</div>"
     },
     "execution_count": 89,
     "metadata": {},
     "output_type": "execute_result"
    }
   ],
   "source": [
    "diff_data"
   ],
   "metadata": {
    "collapsed": false,
    "ExecuteTime": {
     "end_time": "2024-01-08T15:49:28.976218037Z",
     "start_time": "2024-01-08T15:49:28.967154836Z"
    }
   },
   "id": "b1dc41b3af2073ff"
  },
  {
   "cell_type": "code",
   "execution_count": null,
   "outputs": [],
   "source": [],
   "metadata": {
    "collapsed": false
   },
   "id": "a803fb730100a84b"
  }
 ],
 "metadata": {
  "kernelspec": {
   "display_name": "Python 3",
   "language": "python",
   "name": "python3"
  },
  "language_info": {
   "codemirror_mode": {
    "name": "ipython",
    "version": 2
   },
   "file_extension": ".py",
   "mimetype": "text/x-python",
   "name": "python",
   "nbconvert_exporter": "python",
   "pygments_lexer": "ipython2",
   "version": "2.7.6"
  }
 },
 "nbformat": 4,
 "nbformat_minor": 5
}
