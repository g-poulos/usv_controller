{
 "cells": [
  {
   "cell_type": "code",
   "execution_count": null,
   "id": "initial_id",
   "metadata": {
    "collapsed": true
   },
   "outputs": [],
   "source": [
    "import math\n",
    "import matplotlib.pyplot as plt\n",
    "import numpy as np\n",
    "from disturbances import IntegratedWhiteNoise\n",
    "import os\n",
    "from constants import *\n",
    "from diff_calc import wind_force, vector_to_xy_components, get_mass_matrix\n",
    "import pandas as pd"
   ]
  },
  {
   "cell_type": "code",
   "execution_count": null,
   "outputs": [],
   "source": [
    "current_velocity = IntegratedWhiteNoise(0, 0.514, 0.1, 0.001)\n",
    "current_direction = IntegratedWhiteNoise(0, 360, 100, 1)\n",
    "wind_velocity = IntegratedWhiteNoise(0, 7.716, 2, 2)\n",
    "wind_direction = IntegratedWhiteNoise(0, 360, 200, 7)\n",
    "\n",
    "wind = np.zeros((5, 100))\n",
    "for i in range(100):\n",
    "    wind[0, i] = wind_velocity.get_value()\n",
    "    wind[1, i] = wind_direction.get_value()\n",
    "    vec = vector_to_xy_components(wind[0, i], wind[1, i])\n",
    "    wind[2:, i] = wind_force(vec, wind[1, i], np.array([0, 0, 0]))\n",
    "\n",
    "pd.DataFrame(wind)"
   ],
   "metadata": {
    "collapsed": false
   },
   "id": "f0a25498c8c90fdb"
  },
  {
   "cell_type": "code",
   "execution_count": null,
   "outputs": [],
   "source": [
    "mass_inv = np.linalg.inv(get_mass_matrix())\n",
    "mass_inv"
   ],
   "metadata": {
    "collapsed": false
   },
   "id": "c31f5428bd7ef44c"
  },
  {
   "cell_type": "code",
   "execution_count": 20,
   "outputs": [
    {
     "name": "stdout",
     "output_type": "stream",
     "text": [
      "(3, 10000)\n"
     ]
    },
    {
     "data": {
      "text/plain": "array([[0.00000000e+00, 1.95837891e-04, 5.27420264e-04, ...,\n        1.34901128e+00, 1.35055953e+00, 1.35210797e+00],\n       [0.00000000e+00, 0.00000000e+00, 0.00000000e+00, ...,\n        0.00000000e+00, 0.00000000e+00, 0.00000000e+00],\n       [0.00000000e+00, 0.00000000e+00, 0.00000000e+00, ...,\n        0.00000000e+00, 0.00000000e+00, 0.00000000e+00]])"
     },
     "execution_count": 20,
     "metadata": {},
     "output_type": "execute_result"
    }
   ],
   "source": [
    "h = 0.01\n",
    "it = 10000\n",
    "\n",
    "vel = np.zeros((3, it))\n",
    "for i in range(it-1):\n",
    "    v = wind_velocity.get_value()\n",
    "    d = wind_direction.get_value()\n",
    "    vec = vector_to_xy_components(v, d)\n",
    "    # f = wind_force(vec, d, vel[:, i])\n",
    "    f = np.array([10, 0, 0])\n",
    "\n",
    "    vel[:, i+1] = vel[:, i] + h * mass_inv.dot(np.array([10*np.log((i)+1), 0, 0]) + f)\n",
    "\n",
    "print(vel.shape)\n",
    "vel[:, :1000]"
   ],
   "metadata": {
    "collapsed": false,
    "ExecuteTime": {
     "end_time": "2023-11-18T15:36:49.850821679Z",
     "start_time": "2023-11-18T15:36:49.757997801Z"
    }
   },
   "id": "3e43e3f13c34f27e"
  },
  {
   "cell_type": "code",
   "execution_count": 21,
   "outputs": [
    {
     "data": {
      "text/plain": "[<matplotlib.lines.Line2D at 0x7f9dd7679300>]"
     },
     "execution_count": 21,
     "metadata": {},
     "output_type": "execute_result"
    },
    {
     "data": {
      "text/plain": "<Figure size 640x480 with 3 Axes>",
      "image/png": "[encoded data removed]"
     },
     "metadata": {},
     "output_type": "display_data"
    }
   ],
   "source": [
    "fig, (ax1, ax2, ax3) = plt.subplots(3)\n",
    "ax1.plot(range(it), vel[0, :])\n",
    "ax2.plot(range(it), vel[1, :])\n",
    "ax3.plot(range(it), vel[2, :])"
   ],
   "metadata": {
    "collapsed": false,
    "ExecuteTime": {
     "end_time": "2023-11-18T15:36:51.469559806Z",
     "start_time": "2023-11-18T15:36:51.296731784Z"
    }
   },
   "id": "e9ec87dfd1df7518"
  },
  {
   "cell_type": "code",
   "execution_count": null,
   "outputs": [],
   "source": [
    "n = np.zeros((1000))\n",
    "for i in range(1000):\n",
    "    n[i] = np.log(i)\n",
    "    \n",
    "plt.plot(range(1000), n)"
   ],
   "metadata": {
    "collapsed": false
   },
   "id": "6f729d0862ed39e7"
  },
  {
   "cell_type": "code",
   "execution_count": null,
   "outputs": [],
   "source": [],
   "metadata": {
    "collapsed": false
   },
   "id": "a5fd9a2d52865a3f"
  }
 ],
 "metadata": {
  "kernelspec": {
   "display_name": "Python 3",
   "language": "python",
   "name": "python3"
  },
  "language_info": {
   "codemirror_mode": {
    "name": "ipython",
    "version": 2
   },
   "file_extension": ".py",
   "mimetype": "text/x-python",
   "name": "python",
   "nbconvert_exporter": "python",
   "pygments_lexer": "ipython2",
   "version": "2.7.6"
  }
 },
 "nbformat": 4,
 "nbformat_minor": 5
}
