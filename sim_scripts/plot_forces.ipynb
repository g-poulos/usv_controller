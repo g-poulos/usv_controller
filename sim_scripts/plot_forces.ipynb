{
 "cells": [
  {
   "cell_type": "code",
   "outputs": [],
   "source": [
    "import numpy as np\n",
    "import pandas as pd\n",
    "import matplotlib.pyplot as plt\n",
    "from mcap_ros2.reader import read_ros2_messages\n",
    "\n",
    "%matplotlib qt\n",
    "# %matplotlib inline\n",
    "\n",
    "plt.rcParams[\"font.family\"] = \"Times New Roman\"\n",
    "plt.rcParams.update({'font.size': 15})\n",
    "\n",
    "def align_values(data, size):\n",
    "    selected_indices = np.linspace(0, len(data) - 1, size, dtype=int)\n",
    "    return data.iloc[selected_indices].reset_index(drop=True)\n",
    "\n",
    "def quaternion_to_yaw(quaternion):\n",
    "    q0, q1, q2, q3 = quaternion\n",
    "    yaw = np.arctan2(2 * (q0 * q3 + q1 * q2), 1 - 2 * (q2**2 + q3**2))\n",
    "    return yaw"
   ],
   "metadata": {
    "collapsed": false,
    "ExecuteTime": {
     "end_time": "2024-02-05T13:05:13.540045508Z",
     "start_time": "2024-02-05T13:05:12.901143307Z"
    }
   },
   "id": "e1b895fd6e0fd45b",
   "execution_count": 1
  },
  {
   "cell_type": "code",
   "outputs": [],
   "source": [
    "def plot_force(gz_force, python_sim_force, title, seconds):\n",
    "    fig, ax = plt.subplots(3, 1, sharex=False, sharey=False)\n",
    "    fig.set_figwidth(32)\n",
    "    fig.set_figheight(18)\n",
    "    time = np.linspace(0, seconds, len(gz_force[0]))\n",
    "    \n",
    "    ax[0].plot(time, gz_force[0], label=\"Gazebo Simulation\", color=\"darkorange\")\n",
    "    ax[0].plot(time, python_sim_force[0], label=\"Python Simulation\", color=\"royalblue\")\n",
    "    ax[0].grid()\n",
    "    ax[0].legend(loc=\"best\")\n",
    "    \n",
    "    ax[1].plot(time, gz_force[1], label=\"Gazebo Simulation\", color=\"darkorange\")\n",
    "    ax[1].plot(time, python_sim_force[1], label=\"Python Simulation\", color=\"royalblue\")\n",
    "    ax[1].grid()\n",
    "    ax[1].legend(loc=\"best\")\n",
    "    \n",
    "    ax[2].plot(time, gz_force[2], label=\"Gazebo Simulation\", color=\"darkorange\")\n",
    "    ax[2].plot(time, python_sim_force[2], label=\"Python Simulation\", color=\"royalblue\")\n",
    "    ax[2].grid()\n",
    "    ax[2].legend(loc=\"best\")\n",
    "    \n",
    "    ax[0].set_ylabel('X-Axis Force [N]')\n",
    "    ax[1].set_ylabel('Y-Axis Force [N]')\n",
    "    ax[2].set_ylabel('Z-Axis Torque [Nm]')\n",
    "    ax[2].set_xlabel('Time [s]')\n",
    "    fig.suptitle(title, fontsize=20)"
   ],
   "metadata": {
    "collapsed": false,
    "ExecuteTime": {
     "end_time": "2024-02-05T13:05:13.982147085Z",
     "start_time": "2024-02-05T13:05:13.979315496Z"
    }
   },
   "id": "f7e4c0241c4e9c11",
   "execution_count": 2
  },
  {
   "cell_type": "code",
   "execution_count": 3,
   "id": "initial_id",
   "metadata": {
    "collapsed": true,
    "ExecuteTime": {
     "end_time": "2024-02-05T13:05:40.567095103Z",
     "start_time": "2024-02-05T13:05:14.947033861Z"
    }
   },
   "outputs": [],
   "source": [
    "gz_hydrodynamics_force = np.empty((3, 0))\n",
    "gz_hydrodynamics_torque = np.empty((3, 0))\n",
    "gz_current_force = np.empty((3, 0))\n",
    "gz_current_torque = np.empty((3, 0))\n",
    "gz_wind_force = np.empty((3, 0))\n",
    "gz_wind_torque = np.empty((3, 0))\n",
    "gz_thrust_vec = np.empty((3, 0))\n",
    "\n",
    "gz_yaw_initial = []\n",
    "\n",
    "\n",
    "\n",
    "for msg in read_ros2_messages(\"../bagfiles/record23dist_p-10_9_90/record23_0.mcap\"):\n",
    "    if msg.channel.topic == \"/wave/force\":\n",
    "        gz_hydrodynamics_force = np.column_stack((gz_hydrodynamics_force, np.array([msg.ros_msg.x, msg.ros_msg.y, msg.ros_msg.z])))\n",
    "        \n",
    "    if msg.channel.topic == \"/wave/torque\":\n",
    "        gz_hydrodynamics_torque = np.column_stack((gz_hydrodynamics_torque, np.array([msg.ros_msg.x, msg.ros_msg.y, msg.ros_msg.z])))\n",
    "    \n",
    "    if msg.channel.topic == \"/model/vereniki/odometry\":\n",
    "        yaw = quaternion_to_yaw([msg.ros_msg.pose.pose.orientation.w,\n",
    "                                 msg.ros_msg.pose.pose.orientation.x,\n",
    "                                 msg.ros_msg.pose.pose.orientation.y,\n",
    "                                 msg.ros_msg.pose.pose.orientation.z])\n",
    "        gz_yaw_initial.append(yaw)\n",
    "    \n",
    "    if msg.channel.topic == \"/waterCurrent/force\":\n",
    "        gz_current_force = np.column_stack((gz_current_force, np.array([msg.ros_msg.x, msg.ros_msg.y, msg.ros_msg.z])))\n",
    "        \n",
    "    if msg.channel.topic == \"/waterCurrent/torque\":\n",
    "        gz_current_torque = np.column_stack((gz_current_torque, np.array([msg.ros_msg.x, msg.ros_msg.y, msg.ros_msg.z])))\n",
    "        \n",
    "    if msg.channel.topic == \"/wind/force\":\n",
    "        gz_wind_force = np.column_stack((gz_wind_force, np.array([msg.ros_msg.x, msg.ros_msg.y, msg.ros_msg.z])))\n",
    "        \n",
    "    if msg.channel.topic == \"/wind/torque\":\n",
    "        gz_wind_torque = np.column_stack((gz_wind_torque, np.array([msg.ros_msg.x, msg.ros_msg.y, msg.ros_msg.z])))\n",
    "    \n",
    "    if msg.channel.topic == \"/model/vereniki/controller/thrust_vec\":\n",
    "        gz_thrust_vec = np.column_stack((gz_thrust_vec, np.array([msg.ros_msg.x, msg.ros_msg.y, msg.ros_msg.z])))\n",
    "        "
   ]
  },
  {
   "cell_type": "code",
   "outputs": [
    {
     "name": "stdout",
     "output_type": "stream",
     "text": [
      "732\n",
      "3050\n",
      "732\n"
     ]
    }
   ],
   "source": [
    "gz_data_size = gz_hydrodynamics_force.shape[1]\n",
    "print(gz_data_size)\n",
    "\n",
    "print(len(gz_yaw_initial))\n",
    "gz_yaw = align_values(pd.DataFrame(gz_yaw_initial), gz_data_size)\n",
    "print(len(gz_yaw))"
   ],
   "metadata": {
    "collapsed": false,
    "ExecuteTime": {
     "end_time": "2024-02-05T13:05:42.132296167Z",
     "start_time": "2024-02-05T13:05:42.129931050Z"
    }
   },
   "id": "340605ba41520f6c",
   "execution_count": 4
  },
  {
   "cell_type": "markdown",
   "source": [
    "# Hydrodynamics"
   ],
   "metadata": {
    "collapsed": false
   },
   "id": "fc5998d67eb53dec"
  },
  {
   "cell_type": "code",
   "outputs": [],
   "source": [
    "python_sim = pd.read_csv(\"simulation_output/hydrodynamics.csv\")\n",
    "python_sim_hydro_force_x = align_values(python_sim.iloc[:, 0], gz_data_size)\n",
    "python_sim_hydro_force_y = align_values(python_sim.iloc[:, 1], gz_data_size)\n",
    "python_sim_hydro_torque_z = align_values(python_sim.iloc[:, 2], gz_data_size)\n",
    "\n",
    "gz_hydrodynamics_force_body = np.zeros((gz_data_size, 2))\n",
    "i = 0\n",
    "for force, theta in zip(gz_hydrodynamics_force.T, gz_yaw.values):\n",
    "    theta = theta[0]\n",
    "    R = np.array([[np.cos(theta), -np.sin(theta), 0],\n",
    "                  [np.sin(theta), np.cos(theta), 0],\n",
    "                  [0, 0, 1]]) \n",
    "    rotated_force_vector = np.dot(np.linalg.inv(R), np.array([force[0], force[1], 1]))\n",
    "    gz_hydrodynamics_force_body[i, 0] = rotated_force_vector[0]\n",
    "    gz_hydrodynamics_force_body[i, 1] = rotated_force_vector[1]\n",
    "    i = i + 1"
   ],
   "metadata": {
    "collapsed": false,
    "ExecuteTime": {
     "end_time": "2024-02-05T13:05:43.518845509Z",
     "start_time": "2024-02-05T13:05:43.467167948Z"
    }
   },
   "id": "79bd2957983aa059",
   "execution_count": 5
  },
  {
   "cell_type": "code",
   "outputs": [],
   "source": [
    "plot_force([gz_hydrodynamics_force_body[:, 0], gz_hydrodynamics_force_body[:, 1], gz_hydrodynamics_torque[2, :]], \n",
    "           [python_sim_hydro_force_x, python_sim_hydro_force_y, python_sim_hydro_torque_z],\n",
    "           \"Hydrodynamic Forces/Torque\", 60)"
   ],
   "metadata": {
    "collapsed": false,
    "ExecuteTime": {
     "end_time": "2024-02-05T13:05:45.140370208Z",
     "start_time": "2024-02-05T13:05:45.026896712Z"
    }
   },
   "id": "33a73ab367fa6fe6",
   "execution_count": 6
  },
  {
   "cell_type": "markdown",
   "source": [
    "# Thrust"
   ],
   "metadata": {
    "collapsed": false
   },
   "id": "e2d6d415b7d6a14d"
  },
  {
   "cell_type": "code",
   "outputs": [
    {
     "name": "stdout",
     "output_type": "stream",
     "text": [
      "(3, 3050)\n",
      "(3050, 3)\n"
     ]
    }
   ],
   "source": [
    "python_sim_thrust = pd.read_csv(\"simulation_output/thrust.csv\")\n",
    "\n",
    "# gz_thrust_vec = gz_thrust_vec.T\n",
    "python_sim_thrust = align_values(python_sim_thrust, gz_thrust_vec.shape[1])\n",
    "print(gz_thrust_vec.shape)\n",
    "print(python_sim_thrust.shape)\n",
    "plot_force([gz_thrust_vec[0, :], gz_thrust_vec[1, :], gz_thrust_vec[2, :]], \n",
    "           [python_sim_thrust.iloc[:, 0], python_sim_thrust.iloc[:, 1], python_sim_thrust.iloc[:, 2]],\n",
    "           \"Thrust Vector\", 60)"
   ],
   "metadata": {
    "collapsed": false,
    "ExecuteTime": {
     "end_time": "2024-02-05T13:06:13.195568281Z",
     "start_time": "2024-02-05T13:06:13.135781340Z"
    }
   },
   "id": "cf7c1d2f467ced1c",
   "execution_count": 8
  },
  {
   "cell_type": "markdown",
   "source": [
    "# Disturbances"
   ],
   "metadata": {
    "collapsed": false
   },
   "id": "6d99e868e847b449"
  },
  {
   "cell_type": "code",
   "outputs": [
    {
     "name": "stdout",
     "output_type": "stream",
     "text": [
      "(3050, 3)\n",
      "(3050, 2)\n",
      "(3050,)\n"
     ]
    }
   ],
   "source": [
    "python_sim_dist = pd.read_csv(\"simulation_output/disturbance.csv\")\n",
    "\n",
    "python_sim_dist_aligned = align_values(python_sim_dist, len(gz_yaw_initial))\n",
    "\n",
    "gz_current_force_aligned = align_values(pd.DataFrame(gz_current_force.T), len(gz_yaw_initial))\n",
    "gz_current_torque_aligned = align_values(pd.DataFrame(gz_current_torque.T), len(gz_yaw_initial))\n",
    "gz_wind_force_aligned = align_values(pd.DataFrame(gz_wind_force.T), len(gz_yaw_initial))\n",
    "gz_wind_torque_aligned = align_values(pd.DataFrame(gz_wind_torque.T), len(gz_yaw_initial))\n",
    "\n",
    "gz_dist_force = gz_current_force_aligned.iloc[:, :2] + gz_wind_force_aligned.iloc[:, :2]\n",
    "gz_dist_torque = gz_current_torque_aligned.iloc[:, 2] + gz_wind_torque_aligned.iloc[:, 2]\n",
    "\n",
    "print(python_sim_dist_aligned.shape)\n",
    "print(gz_dist_force.shape)\n",
    "print(gz_dist_torque.shape)"
   ],
   "metadata": {
    "collapsed": false,
    "ExecuteTime": {
     "end_time": "2024-02-05T13:06:14.500373874Z",
     "start_time": "2024-02-05T13:06:14.483492526Z"
    }
   },
   "id": "fcfc6d434237cc68",
   "execution_count": 9
  },
  {
   "cell_type": "code",
   "outputs": [
    {
     "data": {
      "text/plain": "(3050, 2)"
     },
     "execution_count": 10,
     "metadata": {},
     "output_type": "execute_result"
    }
   ],
   "source": [
    "rotated_points = []\n",
    "for i, row in gz_dist_force.iterrows():\n",
    "    angle = gz_yaw_initial[i]  # Get the rotation angle for this row\n",
    "    rotation_matrix = np.array([[np.cos(angle), -np.sin(angle)],\n",
    "                                [np.sin(angle), np.cos(angle)]])\n",
    "    rotated_point = np.dot(np.linalg.inv(rotation_matrix), [row[0], row[1]])\n",
    "    rotated_points.append(rotated_point)\n",
    "    \n",
    "gz_dist_force_rotated = pd.DataFrame(rotated_points, columns=['x', 'y'])\n",
    "gz_dist_force_rotated.shape"
   ],
   "metadata": {
    "collapsed": false,
    "ExecuteTime": {
     "end_time": "2024-02-05T13:06:19.635696624Z",
     "start_time": "2024-02-05T13:06:19.631304005Z"
    }
   },
   "id": "3b8a2547c4299650",
   "execution_count": 10
  },
  {
   "cell_type": "code",
   "outputs": [],
   "source": [
    "plot_force([python_sim_dist_aligned.iloc[:, 0], python_sim_dist_aligned.iloc[:, 1], python_sim_dist_aligned.iloc[:, 2]], \n",
    "           [gz_dist_force_rotated.iloc[:, 0], gz_dist_force_rotated.iloc[:, 1], gz_dist_torque],\n",
    "           \"Disturbances Forces/Torque\", 60)"
   ],
   "metadata": {
    "collapsed": false,
    "ExecuteTime": {
     "end_time": "2024-02-05T13:06:46.467699038Z",
     "start_time": "2024-02-05T13:06:46.418057640Z"
    }
   },
   "id": "b9239d07ac5e8750",
   "execution_count": 11
  },
  {
   "cell_type": "code",
   "outputs": [],
   "source": [],
   "metadata": {
    "collapsed": false
   },
   "id": "574558ee3130ace9"
  }
 ],
 "metadata": {
  "kernelspec": {
   "display_name": "Python 3",
   "language": "python",
   "name": "python3"
  },
  "language_info": {
   "codemirror_mode": {
    "name": "ipython",
    "version": 2
   },
   "file_extension": ".py",
   "mimetype": "text/x-python",
   "name": "python",
   "nbconvert_exporter": "python",
   "pygments_lexer": "ipython2",
   "version": "2.7.6"
  }
 },
 "nbformat": 4,
 "nbformat_minor": 5
}
