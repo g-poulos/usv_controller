{
 "cells": [
  {
   "cell_type": "code",
   "outputs": [],
   "source": [
    "import numpy as np\n",
    "import pandas as pd\n",
    "import matplotlib.pyplot as plt\n",
    "from mcap_ros2.reader import read_ros2_messages\n",
    "\n",
    "%matplotlib qt\n",
    "# %matplotlib inline\n",
    "\n",
    "def align_values(data, size):\n",
    "    selected_indices = np.linspace(0, len(data) - 1, size, dtype=int)\n",
    "    return data.iloc[selected_indices].reset_index(drop=True)\n",
    "\n",
    "def quaternion_to_yaw(quaternion):\n",
    "    q0, q1, q2, q3 = quaternion\n",
    "    yaw = np.arctan2(2 * (q0 * q3 + q1 * q2), 1 - 2 * (q2**2 + q3**2))\n",
    "    return yaw"
   ],
   "metadata": {
    "collapsed": false,
    "ExecuteTime": {
     "end_time": "2024-02-05T10:46:00.265410135Z",
     "start_time": "2024-02-05T10:45:59.714403529Z"
    }
   },
   "id": "e1b895fd6e0fd45b",
   "execution_count": 1
  },
  {
   "cell_type": "code",
   "outputs": [],
   "source": [
    "def plot_force(gz_force, python_sim_force):\n",
    "    fig, ax = plt.subplots(3, 1, sharex=False, sharey=False)\n",
    "    fig.set_figwidth(32)\n",
    "    fig.set_figheight(18)\n",
    "    \n",
    "    \n",
    "    ax[0].plot(gz_force[0], label=\"Gazebo Simulation\", color=\"darkorange\")\n",
    "    ax[0].plot(python_sim_force[0], label=\"Python Simulation\", color=\"royalblue\")\n",
    "    ax[0].grid()\n",
    "    ax[0].legend(loc=\"best\")\n",
    "    \n",
    "    ax[1].plot(gz_force[1], label=\"Gazebo Simulation\", color=\"darkorange\")\n",
    "    ax[1].plot(python_sim_force[1], label=\"Python Simulation\", color=\"royalblue\")\n",
    "    ax[1].grid()\n",
    "    ax[1].legend(loc=\"best\")\n",
    "    \n",
    "    ax[2].plot(gz_force[2], label=\"Gazebo Simulation\", color=\"darkorange\")\n",
    "    ax[2].plot(python_sim_force[2], label=\"Python Simulation\", color=\"royalblue\")\n",
    "    ax[2].grid()\n",
    "    ax[2].legend(loc=\"best\")\n",
    "    \n",
    "    ax[0].set_ylabel('X-Axis Force [N]')\n",
    "    ax[1].set_ylabel('Y-Axis Force [N]')\n",
    "    ax[2].set_ylabel('Z-Axis Torque [Nm]')\n",
    "    ax[2].set_xlabel('Time [s]')"
   ],
   "metadata": {
    "collapsed": false,
    "ExecuteTime": {
     "end_time": "2024-02-05T10:55:30.581652187Z",
     "start_time": "2024-02-05T10:55:30.534119166Z"
    }
   },
   "id": "f7e4c0241c4e9c11",
   "execution_count": 9
  },
  {
   "cell_type": "code",
   "execution_count": 2,
   "id": "initial_id",
   "metadata": {
    "collapsed": true,
    "ExecuteTime": {
     "end_time": "2024-02-05T10:50:04.881159211Z",
     "start_time": "2024-02-05T10:49:38.886871583Z"
    }
   },
   "outputs": [],
   "source": [
    "gz_hydrodynamics_force = np.empty((3, 0))\n",
    "gz_hydrodynamics_torque = np.empty((3, 0))\n",
    "gz_current_force = np.empty((3, 0))\n",
    "gz_current_torque = np.empty((3, 0))\n",
    "gz_wind_force = np.empty((3, 0))\n",
    "gz_wind_torque = np.empty((3, 0))\n",
    "gz_thrust_vec = np.empty((3, 0))\n",
    "\n",
    "gz_yaw = []\n",
    "\n",
    "\n",
    "\n",
    "for msg in read_ros2_messages(\"../bagfiles/record23dist_p-10_9_90/record23_0.mcap\"):\n",
    "    if msg.channel.topic == \"/wave/force\":\n",
    "        gz_hydrodynamics_force = np.column_stack((gz_hydrodynamics_force, np.array([msg.ros_msg.x, msg.ros_msg.y, msg.ros_msg.z])))\n",
    "        \n",
    "    if msg.channel.topic == \"/wave/torque\":\n",
    "        gz_hydrodynamics_torque = np.column_stack((gz_hydrodynamics_torque, np.array([msg.ros_msg.x, msg.ros_msg.y, msg.ros_msg.z])))\n",
    "    \n",
    "    if msg.channel.topic == \"/model/vereniki/odometry\":\n",
    "        yaw = quaternion_to_yaw([msg.ros_msg.pose.pose.orientation.w,\n",
    "                                 msg.ros_msg.pose.pose.orientation.x,\n",
    "                                 msg.ros_msg.pose.pose.orientation.y,\n",
    "                                 msg.ros_msg.pose.pose.orientation.z])\n",
    "        gz_yaw.append(yaw)\n",
    "    \n",
    "    if msg.channel.topic == \"/waterCurrent/force\":\n",
    "        gz_current_force = np.column_stack((gz_current_force, np.array([msg.ros_msg.x, msg.ros_msg.y, msg.ros_msg.z])))\n",
    "        \n",
    "    if msg.channel.topic == \"/waterCurrent/torque\":\n",
    "        gz_current_torque = np.column_stack((gz_current_torque, np.array([msg.ros_msg.x, msg.ros_msg.y, msg.ros_msg.z])))\n",
    "        \n",
    "    if msg.channel.topic == \"/wind/force\":\n",
    "        gz_wind_force = np.column_stack((gz_wind_force, np.array([msg.ros_msg.x, msg.ros_msg.y, msg.ros_msg.z])))\n",
    "        \n",
    "    if msg.channel.topic == \"/wind/torque\":\n",
    "        gz_wind_torque = np.column_stack((gz_wind_torque, np.array([msg.ros_msg.x, msg.ros_msg.y, msg.ros_msg.z])))\n",
    "    \n",
    "    if msg.channel.topic == \"/model/vereniki/controller/thrust_vec\":\n",
    "        gz_thrust_vec = np.column_stack((gz_thrust_vec, np.array([msg.ros_msg.x, msg.ros_msg.y, msg.ros_msg.z])))\n",
    "        "
   ]
  },
  {
   "cell_type": "code",
   "outputs": [
    {
     "name": "stdout",
     "output_type": "stream",
     "text": [
      "732\n",
      "3050\n",
      "732\n"
     ]
    }
   ],
   "source": [
    "gz_data_size = gz_hydrodynamics_force.shape[1]\n",
    "print(gz_data_size)\n",
    "\n",
    "print(len(gz_yaw))\n",
    "gz_yaw = align_values(pd.DataFrame(gz_yaw), gz_data_size)\n",
    "print(len(gz_yaw))"
   ],
   "metadata": {
    "collapsed": false,
    "ExecuteTime": {
     "end_time": "2024-02-05T10:51:04.642798365Z",
     "start_time": "2024-02-05T10:51:04.638443449Z"
    }
   },
   "id": "340605ba41520f6c",
   "execution_count": 3
  },
  {
   "cell_type": "markdown",
   "source": [
    "# Hydrodynamics"
   ],
   "metadata": {
    "collapsed": false
   },
   "id": "fc5998d67eb53dec"
  },
  {
   "cell_type": "code",
   "outputs": [],
   "source": [
    "python_sim = pd.read_csv(\"simulation_output/hydrodynamics.csv\")\n",
    "python_sim_hydro_force_x = align_values(python_sim.iloc[:, 0], gz_data_size)\n",
    "python_sim_hydro_force_y = align_values(python_sim.iloc[:, 1], gz_data_size)\n",
    "python_sim_hydro_torque_z = align_values(python_sim.iloc[:, 2], gz_data_size)\n",
    "\n",
    "gz_hydrodynamics_force_body = np.zeros((gz_data_size, 2))\n",
    "i = 0\n",
    "for force, theta in zip(gz_hydrodynamics_force.T, gz_yaw.values):\n",
    "    theta = theta[0]\n",
    "    R = np.array([[np.cos(theta), -np.sin(theta), 0],\n",
    "                  [np.sin(theta), np.cos(theta), 0],\n",
    "                  [0, 0, 1]]) \n",
    "    rotated_force_vector = np.dot(np.linalg.inv(R), np.array([force[0], force[1], 1]))\n",
    "    gz_hydrodynamics_force_body[i, 0] = rotated_force_vector[0]\n",
    "    gz_hydrodynamics_force_body[i, 1] = rotated_force_vector[1]\n",
    "    i = i + 1"
   ],
   "metadata": {
    "collapsed": false,
    "ExecuteTime": {
     "end_time": "2024-02-05T10:52:11.708960283Z",
     "start_time": "2024-02-05T10:52:11.604448919Z"
    }
   },
   "id": "79bd2957983aa059",
   "execution_count": 5
  },
  {
   "cell_type": "code",
   "outputs": [
    {
     "data": {
      "text/plain": "Text(0.5, 0, 'Time [s]')"
     },
     "execution_count": 6,
     "metadata": {},
     "output_type": "execute_result"
    }
   ],
   "source": [
    "fig, ax = plt.subplots(3, 1, sharex=False, sharey=False)\n",
    "fig.set_figwidth(32)\n",
    "fig.set_figheight(18)\n",
    "\n",
    "\n",
    "ax[0].plot(gz_hydrodynamics_force_body[:, 0], label=\"Gazebo Simulation\", color=\"darkorange\")\n",
    "ax[0].plot(python_sim_hydro_force_x, label=\"Python Simulation\", color=\"royalblue\")\n",
    "ax[0].grid()\n",
    "ax[0].legend(loc=\"best\")\n",
    "\n",
    "ax[1].plot(gz_hydrodynamics_force_body[:, 1], label=\"Gazebo Simulation\", color=\"darkorange\")\n",
    "ax[1].plot(python_sim_hydro_force_y, label=\"Python Simulation\", color=\"royalblue\")\n",
    "ax[1].grid()\n",
    "ax[1].legend(loc=\"best\")\n",
    "\n",
    "ax[2].plot(gz_hydrodynamics_torque[2, :], label=\"Gazebo Simulation\", color=\"darkorange\")\n",
    "ax[2].plot(python_sim_hydro_torque_z, label=\"Python Simulation\", color=\"royalblue\")\n",
    "ax[2].grid()\n",
    "ax[2].legend(loc=\"best\")\n",
    "\n",
    "ax[0].set_ylabel('X-Axis Force [N]')\n",
    "ax[1].set_ylabel('Y-Axis Force [N]')\n",
    "ax[2].set_ylabel('Z-Axis Torque [Nm]')\n",
    "ax[2].set_xlabel('Time [s]')"
   ],
   "metadata": {
    "collapsed": false,
    "ExecuteTime": {
     "end_time": "2024-02-05T10:52:13.592092467Z",
     "start_time": "2024-02-05T10:52:13.473629124Z"
    }
   },
   "id": "e3ccea636419529f",
   "execution_count": 6
  },
  {
   "cell_type": "code",
   "outputs": [],
   "source": [
    "plot_force([gz_hydrodynamics_force_body[:, 0], gz_hydrodynamics_force_body[:, 1], gz_hydrodynamics_torque[2, :]], \n",
    "           [python_sim_hydro_force_x, python_sim_hydro_force_y, python_sim_hydro_torque_z])"
   ],
   "metadata": {
    "collapsed": false,
    "ExecuteTime": {
     "end_time": "2024-02-05T10:56:31.173954740Z",
     "start_time": "2024-02-05T10:56:31.131058384Z"
    }
   },
   "id": "33a73ab367fa6fe6",
   "execution_count": 10
  },
  {
   "cell_type": "markdown",
   "source": [
    "# Thrust"
   ],
   "metadata": {
    "collapsed": false
   },
   "id": "e2d6d415b7d6a14d"
  },
  {
   "cell_type": "code",
   "outputs": [],
   "source": [
    "python_sim_thrust = pd.read_csv(\"simulation_output/thrust.csv\")\n",
    "p"
   ],
   "metadata": {
    "collapsed": false,
    "ExecuteTime": {
     "end_time": "2024-02-05T10:52:53.997410815Z",
     "start_time": "2024-02-05T10:52:53.956712470Z"
    }
   },
   "id": "cf7c1d2f467ced1c",
   "execution_count": 7
  },
  {
   "cell_type": "code",
   "outputs": [],
   "source": [],
   "metadata": {
    "collapsed": false
   },
   "id": "a51b9c6f95f7f8d6"
  }
 ],
 "metadata": {
  "kernelspec": {
   "display_name": "Python 3",
   "language": "python",
   "name": "python3"
  },
  "language_info": {
   "codemirror_mode": {
    "name": "ipython",
    "version": 2
   },
   "file_extension": ".py",
   "mimetype": "text/x-python",
   "name": "python",
   "nbconvert_exporter": "python",
   "pygments_lexer": "ipython2",
   "version": "2.7.6"
  }
 },
 "nbformat": 4,
 "nbformat_minor": 5
}
